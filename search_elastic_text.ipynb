{
 "cells": [
  {
   "cell_type": "code",
   "execution_count": 7,
   "id": "ed1930de-b298-4dd0-be36-f214ed2b6755",
   "metadata": {},
   "outputs": [],
   "source": [
    "%%capture\n",
    "!pip install elasticsearch"
   ]
  },
  {
   "cell_type": "code",
   "execution_count": 8,
   "id": "be5edcf9-843c-4a62-9ce3-d704570700dd",
   "metadata": {},
   "outputs": [],
   "source": [
    "from elasticsearch import Elasticsearch"
   ]
  },
  {
   "cell_type": "code",
   "execution_count": 1,
   "id": "a229347e-b9b9-4864-ac1d-1dfc83201b76",
   "metadata": {},
   "outputs": [],
   "source": [
    "query = \"When is the next cohort?\""
   ]
  },
  {
   "cell_type": "code",
   "execution_count": 10,
   "id": "13bbbb23-667f-4ac5-a25c-a08cfe3ca99c",
   "metadata": {},
   "outputs": [],
   "source": [
    "connection_string = 'http://localhost:9200'\n",
    "# index_name = 'documents_20240818_4027'\n",
    "index_name = 'documents_20240819_1257'"
   ]
  },
  {
   "cell_type": "code",
   "execution_count": 4,
   "id": "230247f4-0a25-40e1-876b-aa1b5311b647",
   "metadata": {},
   "outputs": [],
   "source": [
    "def elastic_text_search(query):\n",
    "    \n",
    "    search_query = {\n",
    "        \"size\": 5,\n",
    "        \"query\": {\n",
    "            \"bool\": {\n",
    "                \"must\": {\n",
    "                    \"multi_match\": {\n",
    "                        \"query\": query,\n",
    "                        \"fields\": [\"question^3\", \"text\", \"section\"],\n",
    "                        \"type\": \"best_fields\"\n",
    "                    }\n",
    "                },\n",
    "            }\n",
    "        }\n",
    "    }\n",
    "\n",
    "    print(f'{connection_string=}')\n",
    "    es_client = Elasticsearch(connection_string)\n",
    "\n",
    "\n",
    "    response = es_client.search(index=index_name, body=search_query)\n",
    "\n",
    "    return [hit['_source'] for hit in response['hits']['hits']]"
   ]
  },
  {
   "cell_type": "code",
   "execution_count": 11,
   "id": "74acaf39-632a-47ff-894b-5ea8342c970a",
   "metadata": {},
   "outputs": [
    {
     "name": "stdout",
     "output_type": "stream",
     "text": [
      "connection_string='http://localhost:9200'\n"
     ]
    },
    {
     "data": {
      "text/plain": [
       "[{'text': 'Summer 2026.',\n",
       "  'section': 'General course-related questions',\n",
       "  'question': 'When is the next cohort?',\n",
       "  'course': 'llm-zoomcamp',\n",
       "  'document_id': 'b6fa77f3'},\n",
       " {'text': 'Cosine similarity is a measure used to calculate the similarity between two non-zero vectors, often used in text analysis to determine how similar two documents are based on their content. This metric computes the cosine of the angle between two vectors, which are typically word counts or TF-IDF values of the documents. The cosine similarity value ranges from -1 to 1, where 1 indicates that the vectors are identical, 0 indicates that the vectors are orthogonal (no similarity), and -1 represents completely opposite vectors.',\n",
       "  'section': 'Module 3: X',\n",
       "  'question': 'What is the cosine similarity?',\n",
       "  'course': 'llm-zoomcamp',\n",
       "  'document_id': 'ee355823'},\n",
       " {'text': 'The error indicates that you have not changed all instances of “employee_handbook” to “homework” in your pipeline settings',\n",
       "  'section': 'Workshops: dlthub',\n",
       "  'question': 'There is an error when opening the table using dbtable = db.open_table(\"notion_pages___homework\"): FileNotFoundError: Table notion_pages___homework does not exist.Please first call db.create_table(notion_pages___homework, data)',\n",
       "  'course': 'llm-zoomcamp',\n",
       "  'document_id': '6cf805ca'},\n",
       " {'text': 'Make sure you open the correct table in line 3: dbtable = db.open_table(\"notion_pages___homework\")',\n",
       "  'section': 'Workshops: dlthub',\n",
       "  'question': 'There is an error when running main(): FileNotFoundError: Table notion_pages___homework does not exist.Please first call db.create_table(notion_pages___homework, data)',\n",
       "  'course': 'llm-zoomcamp',\n",
       "  'document_id': 'e18124d4'},\n",
       " {'text': 'This course is being offered for the first time, and things will keep changing until a given module is ready, at which point it shall be announced. Working on the material/homework in advance will be at your own risk, as the final version could be different.',\n",
       "  'section': 'General course-related questions',\n",
       "  'question': 'I was working on next week’s homework/content - why does it keep changing?',\n",
       "  'course': 'llm-zoomcamp',\n",
       "  'document_id': 'fb81c6ff'}]"
      ]
     },
     "execution_count": 11,
     "metadata": {},
     "output_type": "execute_result"
    }
   ],
   "source": [
    "elastic_text_search(query)"
   ]
  }
 ],
 "metadata": {
  "kernelspec": {
   "display_name": "Python 3 (ipykernel)",
   "language": "python",
   "name": "python3"
  },
  "language_info": {
   "codemirror_mode": {
    "name": "ipython",
    "version": 3
   },
   "file_extension": ".py",
   "mimetype": "text/x-python",
   "name": "python",
   "nbconvert_exporter": "python",
   "pygments_lexer": "ipython3",
   "version": "3.10.13"
  }
 },
 "nbformat": 4,
 "nbformat_minor": 5
}
